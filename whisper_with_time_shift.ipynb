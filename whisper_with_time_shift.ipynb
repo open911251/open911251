{
  "nbformat": 4,
  "nbformat_minor": 0,
  "metadata": {
    "colab": {
      "provenance": [],
      "gpuType": "T4",
      "authorship_tag": "ABX9TyMIeuv3j843NGTRcj2DTAf+",
      "include_colab_link": true
    },
    "kernelspec": {
      "name": "python3",
      "display_name": "Python 3"
    },
    "language_info": {
      "name": "python"
    },
    "accelerator": "GPU"
  },
  "cells": [
    {
      "cell_type": "markdown",
      "metadata": {
        "id": "view-in-github",
        "colab_type": "text"
      },
      "source": [
        "<a href=\"https://colab.research.google.com/github/open911251/open911251/blob/main/whisper_with_time_shift.ipynb\" target=\"_parent\"><img src=\"https://colab.research.google.com/assets/colab-badge.svg\" alt=\"Open In Colab\"/></a>"
      ]
    },
    {
      "cell_type": "code",
      "execution_count": null,
      "metadata": {
        "colab": {
          "base_uri": "https://localhost:8080/",
          "height": 654
        },
        "id": "vQHgok2qbVql",
        "outputId": "dbed3da2-7c0d-4ccb-fbdc-2dedd86eed17"
      },
      "outputs": [
        {
          "output_type": "stream",
          "name": "stdout",
          "text": [
            "\r0% [Working]\r            \rHit:1 https://cloud.r-project.org/bin/linux/ubuntu jammy-cran40/ InRelease\n",
            "\r0% [Connecting to archive.ubuntu.com (185.125.190.83)] [Connecting to security.ubuntu.com (91.189.91\r                                                                                                    \rHit:2 https://developer.download.nvidia.com/compute/cuda/repos/ubuntu2204/x86_64  InRelease\n",
            "Hit:3 http://security.ubuntu.com/ubuntu jammy-security InRelease\n",
            "Hit:4 http://archive.ubuntu.com/ubuntu jammy InRelease\n",
            "Hit:5 https://r2u.stat.illinois.edu/ubuntu jammy InRelease\n",
            "Hit:6 http://archive.ubuntu.com/ubuntu jammy-updates InRelease\n",
            "Hit:7 http://archive.ubuntu.com/ubuntu jammy-backports InRelease\n",
            "Hit:8 https://ppa.launchpadcontent.net/deadsnakes/ppa/ubuntu jammy InRelease\n",
            "Hit:9 https://ppa.launchpadcontent.net/graphics-drivers/ppa/ubuntu jammy InRelease\n",
            "Hit:10 https://ppa.launchpadcontent.net/ubuntugis/ppa/ubuntu jammy InRelease\n",
            "Reading package lists... Done\n",
            "W: Skipping acquire of configured file 'main/source/Sources' as repository 'https://r2u.stat.illinois.edu/ubuntu jammy InRelease' does not seem to provide it (sources.list entry misspelt?)\n",
            "Reading package lists... Done\n",
            "Building dependency tree... Done\n",
            "Reading state information... Done\n",
            "ffmpeg is already the newest version (7:4.4.2-0ubuntu0.22.04.1).\n",
            "0 upgraded, 0 newly installed, 0 to remove and 49 not upgraded.\n",
            "Drive already mounted at /content/drive; to attempt to forcibly remount, call drive.mount(\"/content/drive\", force_remount=True).\n"
          ]
        },
        {
          "output_type": "error",
          "ename": "KeyboardInterrupt",
          "evalue": "Interrupted by user",
          "traceback": [
            "\u001b[0;31m---------------------------------------------------------------------------\u001b[0m",
            "\u001b[0;31mKeyboardInterrupt\u001b[0m                         Traceback (most recent call last)",
            "\u001b[0;32m<ipython-input-2-49bef294605b>\u001b[0m in \u001b[0;36m<cell line: 87>\u001b[0;34m()\u001b[0m\n\u001b[1;32m     85\u001b[0m \u001b[0;34m\u001b[0m\u001b[0m\n\u001b[1;32m     86\u001b[0m \u001b[0;31m# 執行主程式\u001b[0m\u001b[0;34m\u001b[0m\u001b[0;34m\u001b[0m\u001b[0m\n\u001b[0;32m---> 87\u001b[0;31m \u001b[0mmain\u001b[0m\u001b[0;34m(\u001b[0m\u001b[0;34m)\u001b[0m\u001b[0;34m\u001b[0m\u001b[0;34m\u001b[0m\u001b[0m\n\u001b[0m",
            "\u001b[0;32m<ipython-input-2-49bef294605b>\u001b[0m in \u001b[0;36mmain\u001b[0;34m()\u001b[0m\n\u001b[1;32m     69\u001b[0m \u001b[0;32mdef\u001b[0m \u001b[0mmain\u001b[0m\u001b[0;34m(\u001b[0m\u001b[0;34m)\u001b[0m\u001b[0;34m:\u001b[0m\u001b[0;34m\u001b[0m\u001b[0;34m\u001b[0m\u001b[0m\n\u001b[1;32m     70\u001b[0m     \u001b[0;31m# 選擇雲端硬碟的音檔\u001b[0m\u001b[0;34m\u001b[0m\u001b[0;34m\u001b[0m\u001b[0m\n\u001b[0;32m---> 71\u001b[0;31m     \u001b[0mfilename\u001b[0m \u001b[0;34m=\u001b[0m \u001b[0minput\u001b[0m\u001b[0;34m(\u001b[0m\u001b[0;34m\"請輸入雲端硬碟的音檔路徑 (例如 /content/drive/My Drive/音檔名稱.mp3): \"\u001b[0m\u001b[0;34m)\u001b[0m\u001b[0;34m\u001b[0m\u001b[0;34m\u001b[0m\u001b[0m\n\u001b[0m\u001b[1;32m     72\u001b[0m     \u001b[0mmodel_size\u001b[0m \u001b[0;34m=\u001b[0m \u001b[0minput\u001b[0m\u001b[0;34m(\u001b[0m\u001b[0;34m\"請選擇模型大小 (tiny, base, small, medium, large): \"\u001b[0m\u001b[0;34m)\u001b[0m\u001b[0;34m\u001b[0m\u001b[0;34m\u001b[0m\u001b[0m\n\u001b[1;32m     73\u001b[0m     \u001b[0mlanguage\u001b[0m \u001b[0;34m=\u001b[0m \u001b[0minput\u001b[0m\u001b[0;34m(\u001b[0m\u001b[0;34m\"請輸入語言 (例如 Chinese, English): \"\u001b[0m\u001b[0;34m)\u001b[0m\u001b[0;34m\u001b[0m\u001b[0;34m\u001b[0m\u001b[0m\n",
            "\u001b[0;32m/usr/local/lib/python3.10/dist-packages/ipykernel/kernelbase.py\u001b[0m in \u001b[0;36mraw_input\u001b[0;34m(self, prompt)\u001b[0m\n\u001b[1;32m    849\u001b[0m                 \u001b[0;34m\"raw_input was called, but this frontend does not support input requests.\"\u001b[0m\u001b[0;34m\u001b[0m\u001b[0;34m\u001b[0m\u001b[0m\n\u001b[1;32m    850\u001b[0m             )\n\u001b[0;32m--> 851\u001b[0;31m         return self._input_request(str(prompt),\n\u001b[0m\u001b[1;32m    852\u001b[0m             \u001b[0mself\u001b[0m\u001b[0;34m.\u001b[0m\u001b[0m_parent_ident\u001b[0m\u001b[0;34m,\u001b[0m\u001b[0;34m\u001b[0m\u001b[0;34m\u001b[0m\u001b[0m\n\u001b[1;32m    853\u001b[0m             \u001b[0mself\u001b[0m\u001b[0;34m.\u001b[0m\u001b[0m_parent_header\u001b[0m\u001b[0;34m,\u001b[0m\u001b[0;34m\u001b[0m\u001b[0;34m\u001b[0m\u001b[0m\n",
            "\u001b[0;32m/usr/local/lib/python3.10/dist-packages/ipykernel/kernelbase.py\u001b[0m in \u001b[0;36m_input_request\u001b[0;34m(self, prompt, ident, parent, password)\u001b[0m\n\u001b[1;32m    893\u001b[0m             \u001b[0;32mexcept\u001b[0m \u001b[0mKeyboardInterrupt\u001b[0m\u001b[0;34m:\u001b[0m\u001b[0;34m\u001b[0m\u001b[0;34m\u001b[0m\u001b[0m\n\u001b[1;32m    894\u001b[0m                 \u001b[0;31m# re-raise KeyboardInterrupt, to truncate traceback\u001b[0m\u001b[0;34m\u001b[0m\u001b[0;34m\u001b[0m\u001b[0m\n\u001b[0;32m--> 895\u001b[0;31m                 \u001b[0;32mraise\u001b[0m \u001b[0mKeyboardInterrupt\u001b[0m\u001b[0;34m(\u001b[0m\u001b[0;34m\"Interrupted by user\"\u001b[0m\u001b[0;34m)\u001b[0m \u001b[0;32mfrom\u001b[0m \u001b[0;32mNone\u001b[0m\u001b[0;34m\u001b[0m\u001b[0;34m\u001b[0m\u001b[0m\n\u001b[0m\u001b[1;32m    896\u001b[0m             \u001b[0;32mexcept\u001b[0m \u001b[0mException\u001b[0m \u001b[0;32mas\u001b[0m \u001b[0me\u001b[0m\u001b[0;34m:\u001b[0m\u001b[0;34m\u001b[0m\u001b[0;34m\u001b[0m\u001b[0m\n\u001b[1;32m    897\u001b[0m                 \u001b[0mself\u001b[0m\u001b[0;34m.\u001b[0m\u001b[0mlog\u001b[0m\u001b[0;34m.\u001b[0m\u001b[0mwarning\u001b[0m\u001b[0;34m(\u001b[0m\u001b[0;34m\"Invalid Message:\"\u001b[0m\u001b[0;34m,\u001b[0m \u001b[0mexc_info\u001b[0m\u001b[0;34m=\u001b[0m\u001b[0;32mTrue\u001b[0m\u001b[0;34m)\u001b[0m\u001b[0;34m\u001b[0m\u001b[0;34m\u001b[0m\u001b[0m\n",
            "\u001b[0;31mKeyboardInterrupt\u001b[0m: Interrupted by user"
          ]
        }
      ],
      "source": [
        "# 安裝必要的套件\n",
        "!pip install -q openai-whisper\n",
        "!apt-get update && apt-get install -y ffmpeg\n",
        "!pip install -q matplotlib\n",
        "\n",
        "from google.colab import drive\n",
        "import whisper\n",
        "import os\n",
        "import csv\n",
        "import matplotlib.pyplot as plt\n",
        "from google.colab import files\n",
        "\n",
        "# 掛載雲端硬碟\n",
        "drive.mount(\"/content/drive\")\n",
        "\n",
        "# Step 1: 使用 Whisper 進行語音轉文字\n",
        "def transcribe_audio_file(filename, model_size='medium', language='English'):\n",
        "    \"\"\"\n",
        "    使用 OpenAI Whisper 模型進行音檔轉文字，並生成逐字時間戳\n",
        "    \"\"\"\n",
        "    print(\"處理的檔案路徑：\", filename)\n",
        "    model = whisper.load_model(model_size)\n",
        "    # 啟用逐字時間戳\n",
        "    result = model.transcribe(filename, language=language, word_timestamps=True)\n",
        "    return result\n",
        "\n",
        "# Step 2: 將逐字時間戳保存為 CSV 文件\n",
        "def save_transcription_to_csv(result, csv_filename, offset=0.0):\n",
        "    \"\"\"\n",
        "    將轉錄結果保存為 CSV 文件，包含每個字的開始和結束時間，並應用偏移值\n",
        "    \"\"\"\n",
        "    with open(csv_filename, \"w\", encoding=\"utf-8\", newline=\"\") as csvfile:\n",
        "        writer = csv.writer(csvfile)\n",
        "        writer.writerow([\"Word\", \"Start Time (seconds)\", \"End Time (seconds)\"])\n",
        "        for segment in result['segments']:\n",
        "            for word_info in segment['words']:\n",
        "                writer.writerow([\n",
        "                    word_info['word'],\n",
        "                    f\"{word_info['start'] + offset:.2f}\",\n",
        "                    f\"{word_info['end'] + offset:.2f}\"\n",
        "                ])\n",
        "    print(f\"逐字時間戳已儲存至 {csv_filename}\")\n",
        "\n",
        "# Step 3: 可視化逐字時間軸\n",
        "def visualize_word_timeline(csv_filename):\n",
        "    \"\"\"\n",
        "    根據 CSV 文件繪製可視化的逐字時間軸\n",
        "    \"\"\"\n",
        "    words, start_times, durations = [], [], []\n",
        "\n",
        "    # 讀取 CSV 文件\n",
        "    with open(csv_filename, \"r\", encoding=\"utf-8\") as csvfile:\n",
        "        reader = csv.DictReader(csvfile)\n",
        "        for row in reader:\n",
        "            words.append(row[\"Word\"])\n",
        "            start_times.append(float(row[\"Start Time (seconds)\"]))\n",
        "            durations.append(float(row[\"End Time (seconds)\"]) - float(row[\"Start Time (seconds)\"]))\n",
        "\n",
        "    plt.figure(figsize=(15, 5))\n",
        "    plt.barh(range(len(words)), durations, left=start_times, color='skyblue')\n",
        "    plt.yticks(range(len(words)), words)\n",
        "    plt.xlabel('Time (seconds)')\n",
        "    plt.ylabel('Words')\n",
        "    plt.title('Word Timeline Visualization')\n",
        "    plt.gca().invert_yaxis()  # 反轉 Y 軸，讓第一個詞在最上方\n",
        "    plt.show()\n",
        "\n",
        "# 主程式\n",
        "def main():\n",
        "    # 選擇雲端硬碟的音檔\n",
        "    filename = input(\"請輸入雲端硬碟的音檔路徑 (例如 /content/drive/My Drive/音檔名稱.mp3): \")\n",
        "    model_size = input(\"請選擇模型大小 (tiny, base, small, medium, large): \")\n",
        "    language = input(\"請輸入語言 (例如 Chinese, English): \")\n",
        "    offset = float(input(\"請輸入時間偏移值 (單位: 秒，可正可負，默認為 0): \") or 0)\n",
        "\n",
        "    # 執行音檔轉文字\n",
        "    result = transcribe_audio_file(filename, model_size, language)\n",
        "\n",
        "    # 儲存結果為 CSV 文件\n",
        "    csv_filename = os.path.splitext(filename)[0] + \"_word_timestamps.csv\"\n",
        "    save_transcription_to_csv(result, csv_filename, offset)\n",
        "\n",
        "    # 可視化逐字時間軸\n",
        "    visualize_word_timeline(csv_filename)\n",
        "\n",
        "# 執行主程式\n",
        "main()\n"
      ]
    }
  ]
}