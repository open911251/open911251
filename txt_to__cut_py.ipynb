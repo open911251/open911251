{
  "nbformat": 4,
  "nbformat_minor": 0,
  "metadata": {
    "colab": {
      "provenance": [],
      "machine_shape": "hm",
      "authorship_tag": "ABX9TyN0mznBBEO1dUsvA311CSOy",
      "include_colab_link": true
    },
    "kernelspec": {
      "name": "python3",
      "display_name": "Python 3"
    },
    "language_info": {
      "name": "python"
    }
  },
  "cells": [
    {
      "cell_type": "markdown",
      "metadata": {
        "id": "view-in-github",
        "colab_type": "text"
      },
      "source": [
        "<a href=\"https://colab.research.google.com/github/open911251/open911251/blob/main/txt_to__cut_py.ipynb\" target=\"_parent\"><img src=\"https://colab.research.google.com/assets/colab-badge.svg\" alt=\"Open In Colab\"/></a>"
      ]
    },
    {
      "cell_type": "code",
      "execution_count": 2,
      "metadata": {
        "colab": {
          "base_uri": "https://localhost:8080/"
        },
        "id": "_4l5kqleUPxI",
        "outputId": "ded56f1a-a8cb-4d74-d39a-edd40ab8d0e1"
      },
      "outputs": [
        {
          "output_type": "stream",
          "name": "stdout",
          "text": [
            "Drive already mounted at /content/drive; to attempt to forcibly remount, call drive.mount(\"/content/drive\", force_remount=True).\n",
            "請輸入影片檔案位置（預設：/content/drive/My Drive/adfi2/testad6.mp4）：/content/drive/My Drive/adfi2/testad6.mp4\n",
            "請輸入 txt 檔案位置（預設：/content/drive/My Drive/adfi2/word_time_pairs.txt）：/content/drive/My Drive/adfi2/cut1.txt\n",
            "切割第 1 段: 單 (92.22s) - 棄 (127.32s)\n",
            "正在處理影片：從 92.22 秒到 127.32 秒\n",
            "Moviepy - Building video /content/drive/My Drive/VideoCuts/0_單_棄_20241217_022514.mp4.\n",
            "MoviePy - Writing audio in 0_單_棄_20241217_022514TEMP_MPY_wvf_snd.mp3\n"
          ]
        },
        {
          "output_type": "stream",
          "name": "stderr",
          "text": []
        },
        {
          "output_type": "stream",
          "name": "stdout",
          "text": [
            "MoviePy - Done.\n",
            "Moviepy - Writing video /content/drive/My Drive/VideoCuts/0_單_棄_20241217_022514.mp4\n",
            "\n"
          ]
        },
        {
          "output_type": "stream",
          "name": "stderr",
          "text": []
        },
        {
          "output_type": "stream",
          "name": "stdout",
          "text": [
            "Moviepy - Done !\n",
            "Moviepy - video ready /content/drive/My Drive/VideoCuts/0_單_棄_20241217_022514.mp4\n",
            "切割第 2 段: 他 (258.58s) - 的 (300.76s)\n",
            "正在處理影片：從 258.58 秒到 300.76 秒\n",
            "Moviepy - Building video /content/drive/My Drive/VideoCuts/1_他_的_20241217_022520.mp4.\n",
            "MoviePy - Writing audio in 1_他_的_20241217_022520TEMP_MPY_wvf_snd.mp3\n"
          ]
        },
        {
          "output_type": "stream",
          "name": "stderr",
          "text": []
        },
        {
          "output_type": "stream",
          "name": "stdout",
          "text": [
            "MoviePy - Done.\n",
            "Moviepy - Writing video /content/drive/My Drive/VideoCuts/1_他_的_20241217_022520.mp4\n",
            "\n"
          ]
        },
        {
          "output_type": "stream",
          "name": "stderr",
          "text": [
            "                                                                 "
          ]
        },
        {
          "output_type": "stream",
          "name": "stdout",
          "text": [
            "Moviepy - Done !\n",
            "Moviepy - video ready /content/drive/My Drive/VideoCuts/1_他_的_20241217_022520.mp4\n"
          ]
        },
        {
          "output_type": "stream",
          "name": "stderr",
          "text": [
            "\r"
          ]
        }
      ],
      "source": [
        "import os\n",
        "from moviepy.editor import VideoFileClip\n",
        "import time  # 用來產生時間戳\n",
        "from google.colab import drive  # 掛載 Google 雲端硬碟\n",
        "\n",
        "# 掛載 Google Drive\n",
        "drive.mount('/content/drive')\n",
        "\n",
        "# 設定輸出目錄\n",
        "output_directory = '/content/drive/My Drive/VideoCuts/'\n",
        "if not os.path.exists(output_directory):\n",
        "    os.makedirs(output_directory)\n",
        "\n",
        "# 生成輸出檔案名稱\n",
        "def generate_output_filename(index, start_word, end_word):\n",
        "    timestamp = time.strftime(\"%Y%m%d_%H%M%S\")\n",
        "    return f\"{index}_{start_word}_{end_word}_{timestamp}.mp4\"\n",
        "\n",
        "# 影片切割函式\n",
        "def cut_video_by_time(video_path, start_time, end_time, output_path):\n",
        "    print(f\"正在處理影片：從 {start_time} 秒到 {end_time} 秒\")\n",
        "    video_clip = VideoFileClip(video_path).subclip(start_time, end_time)\n",
        "    video_clip.write_videofile(output_path, codec=\"libx264\", preset=\"ultrafast\", threads=4)\n",
        "\n",
        "# 批量處理影片切割\n",
        "def batch_cut_videos(video_path, txt_path):\n",
        "    # 讀取 txt 檔案\n",
        "    with open(txt_path, 'r', encoding='utf-8') as file:\n",
        "        lines = [line.strip().split() for line in file.readlines()]\n",
        "\n",
        "    for index, line in enumerate(lines):\n",
        "        try:\n",
        "            # 提取開始字、開始時間、結束字、結束時間\n",
        "            start_word, start_time, end_word, end_time = line\n",
        "            start_time = float(start_time)  # 轉換為浮點數\n",
        "            end_time = float(end_time)\n",
        "\n",
        "            # 生成輸出檔名和路徑\n",
        "            output_filename = generate_output_filename(index, start_word, end_word)\n",
        "            output_path = os.path.join(output_directory, output_filename)\n",
        "\n",
        "            # 切割影片\n",
        "            print(f\"切割第 {index + 1} 段: {start_word} ({start_time}s) - {end_word} ({end_time}s)\")\n",
        "            cut_video_by_time(video_path, start_time, end_time, output_path)\n",
        "        except ValueError as e:\n",
        "            print(f\"第 {index + 1} 行格式錯誤: {line}，請檢查 txt 檔案！錯誤訊息: {e}\")\n",
        "\n",
        "# 主程式邏輯\n",
        "if __name__ == \"__main__\":\n",
        "    # 設定影片和 txt 檔案路徑\n",
        "    default_video_path = '/content/drive/My Drive/adfi2/testad6.mp4'\n",
        "    video_file_path = input(f\"請輸入影片檔案位置（預設：{default_video_path}）：\") or default_video_path\n",
        "\n",
        "    default_txt_path = '/content/drive/My Drive/adfi2/testad6.mp4'\n",
        "    txt_file_path = input(f\"請輸入 txt 檔案位置（預設：{default_txt_path}）：\") or default_txt_path\n",
        "\n",
        "    # 驗證檔案是否存在\n",
        "    if not os.path.exists(video_file_path):\n",
        "        print(f\"影片檔案不存在: {video_file_path}\")\n",
        "    elif not os.path.exists(txt_file_path):\n",
        "        print(f\"txt 檔案不存在: {txt_file_path}\")\n",
        "    else:\n",
        "        # 批量切割影片\n",
        "        batch_cut_videos(video_file_path, txt_file_path)\n"
      ]
    },
    {
      "cell_type": "markdown",
      "source": [],
      "metadata": {
        "id": "u8xpQF6sXWw-"
      }
    }
  ]
}